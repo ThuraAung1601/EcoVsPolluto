{
  "nbformat": 4,
  "nbformat_minor": 0,
  "metadata": {
    "colab": {
      "provenance": []
    },
    "kernelspec": {
      "name": "python3",
      "display_name": "Python 3"
    },
    "language_info": {
      "name": "python"
    }
  },
  "cells": [
    {
      "cell_type": "code",
      "execution_count": null,
      "metadata": {
        "colab": {
          "base_uri": "https://localhost:8080/"
        },
        "id": "bHxfHc4G-GLl",
        "outputId": "5ff02040-ddc4-4ec3-a3b4-6ab055a423cb"
      },
      "outputs": [
        {
          "output_type": "stream",
          "name": "stdout",
          "text": [
            "Requirement already satisfied: Pillow in /usr/local/lib/python3.10/dist-packages (9.4.0)\n"
          ]
        }
      ],
      "source": [
        "!pip install Pillow"
      ]
    },
    {
      "cell_type": "code",
      "source": [
        "from PIL import Image\n",
        "\n",
        "# Open the image\n",
        "image_path = \"/content/Asset 1.png\"\n",
        "image = Image.open(image_path)\n",
        "\n",
        "# Define the maximum width or height\n",
        "max_width = 128\n",
        "max_height = 128\n",
        "\n",
        "# Resize while preserving aspect ratio\n",
        "width, height = image.size\n",
        "aspect_ratio = width / height\n",
        "\n",
        "if width > height:\n",
        "    new_width = min(width, max_width)\n",
        "    new_height = int(new_width / aspect_ratio)\n",
        "else:\n",
        "    new_height = min(height, max_height)\n",
        "    new_width = int(new_height * aspect_ratio)\n",
        "\n",
        "new_size = (new_width, new_height)\n",
        "\n",
        "print(new_size)\n",
        "# Resize the image\n",
        "resized_image = image.resize(new_size)\n",
        "resized_image2 = image.resize((max_width, max_height))\n",
        "# Save the resized image\n",
        "resized_image2.save(\"./tree.png\")"
      ],
      "metadata": {
        "id": "BZ0UtL74-Img",
        "colab": {
          "base_uri": "https://localhost:8080/"
        },
        "outputId": "a6ceabd0-0e57-4779-a893-57e556da04ac"
      },
      "execution_count": null,
      "outputs": [
        {
          "output_type": "stream",
          "name": "stdout",
          "text": [
            "(120, 128)\n"
          ]
        }
      ]
    },
    {
      "cell_type": "code",
      "source": [
        "resized_image2"
      ],
      "metadata": {
        "id": "aWx2j3no-Y08",
        "colab": {
          "base_uri": "https://localhost:8080/",
          "height": 40
        },
        "outputId": "8ed31fa7-6d36-41b1-9032-0315529eba0b"
      },
      "execution_count": null,
      "outputs": [
        {
          "output_type": "execute_result",
          "data": {
            "text/plain": [
              "<PIL.Image.Image image mode=RGBA size=23x23>"
            ],
            "image/png": "[encoded data removed]"
          },
          "metadata": {},
          "execution_count": 19
        }
      ]
    },
    {
      "cell_type": "code",
      "source": [
        "from PIL import Image\n",
        "\n",
        "img = Image.open('/content/Background-3.jpg')\n",
        "rgba = img.convert(\"RGBA\")\n",
        "datas = rgba.getdata()\n",
        "\n",
        "newData = []\n",
        "for item in datas:\n",
        "    if item[0] >= 230 and item[1] >= 230 and item[2] >= 230: # finding white colour by its RGB value\n",
        "        # storing a transparent value when we find a white colour\n",
        "        newData.append((255, 255, 255, 0))\n",
        "    else:\n",
        "        newData.append(item) # other colours remain unchanged\n",
        "\n",
        "rgba.putdata(newData)\n",
        "rgba.save(\"leaf.png\", \"PNG\")\n"
      ],
      "metadata": {
        "id": "2UZY8sgby556"
      },
      "execution_count": null,
      "outputs": []
    },
    {
      "cell_type": "code",
      "source": [
        "from PIL import Image\n",
        "\n",
        "# Open the image\n",
        "img = Image.open('/content/trail.png')\n",
        "\n",
        "# Convert the image to RGBA mode\n",
        "rgba = img.convert(\"RGBA\")\n",
        "\n",
        "# Get the image data\n",
        "datas = rgba.getdata()\n",
        "\n",
        "# Define the threshold for blue color detection\n",
        "blue_threshold = 100\n",
        "\n",
        "# Define the replacement color (green)\n",
        "green_color = (152, 251, 152, 255)\n",
        "\n",
        "# Iterate over each pixel in the image data\n",
        "newData = []\n",
        "for item in datas:\n",
        "    # Check if the pixel is blue (based on blue channel value)\n",
        "    if item[2] > blue_threshold and item[2] > item[0] and item[2] > item[1]:\n",
        "        # Replace blue with green\n",
        "        newData.append(green_color)\n",
        "    else:\n",
        "        # Keep the original color\n",
        "        newData.append(item)\n",
        "\n",
        "# Put the modified data back into the image\n",
        "rgba.putdata(newData)\n",
        "\n",
        "# Save the modified image\n",
        "rgba.save(\"green_trail.png\", \"PNG\")"
      ],
      "metadata": {
        "id": "4wo0-_KOSxoE"
      },
      "execution_count": null,
      "outputs": []
    },
    {
      "cell_type": "code",
      "source": [],
      "metadata": {
        "id": "CfVIPEduJVpf"
      },
      "execution_count": null,
      "outputs": []
    }
  ]
}